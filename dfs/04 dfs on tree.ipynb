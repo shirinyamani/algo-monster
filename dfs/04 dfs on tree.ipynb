{
 "cells": [
  {
   "cell_type": "markdown",
   "metadata": {},
   "source": [
    "# DFS on Tree 🌳🌵\n",
    "# 1. Think like ya are a Node! 🤓⚾\n",
    "\n",
    "From Node perspective, ya only know;\n",
    "\n",
    "1. Your value\n",
    "2. How to get to your childrean\n",
    "3. Recurssion will take care of other things!\n",
    "\n",
    "The key to solving tree problems using DFS is to think from the perspective of a node instead of looking at the whole tree. This is in line with how recursion is written. Reason from a node's perspective, decide how the current node should be proceeded, then recurse on children and let recursion takes care of the rest.\n",
    "\n",
    "When you are a node, the only things you know are 1) your value and 2) how to get to your children. So the recursive function you write manipulates these things.\n",
    "\n",
    "Given that, the template for DFS on tree is:\n"
   ]
  },
  {
   "cell_type": "code",
   "execution_count": null,
   "metadata": {},
   "outputs": [],
   "source": [
    "def dfs(node, state):\n",
    "    if node is None:\n",
    "        .....\n",
    "        return .....\n",
    "    \n",
    "    left = dfs(node.left, state)\n",
    "    right = dfs(node.right, state)\n",
    "\n",
    "        .....\n",
    "\n",
    "    return ......."
   ]
  },
  {
   "cell_type": "markdown",
   "metadata": {},
   "source": [
    "# 2. Defining the recursive function ⤴️ ⛳\n",
    "\n",
    "There are 2 things that we need to know to define the recursion;\n",
    "\n",
    "1. **Return value (passing value up from child to parent)** \n",
    "What do we want to return after visiting a node. For example, for the max depth problem this is the max depth for the current node's subtree. If we are looking for a node in the tree, we'd want to return that node if found, else return null. Use the return value to pass information from children to parent.\n",
    "\n",
    "2. **Identify state(s) (passing value down from parent to child)**\n",
    "What states do we need to maintain to compute the return value for the current node. For example, to know if the current node's value is larger than its parent we have to maintain the parent's value as a state. State becomes DFS's function arguments. Use states to pass information from parent to children.\n",
    "\n",
    "Consider the problem of pretty-print a binary tree. Given directory tree;\n",
    "\n",
    "<img src=\"../img/dfs_on_trees_intro_1.png\">\n",
    "\n",
    "We want to \"pretty-print\" the directory structure with indents like this:\n",
    "\n",
    "```\n",
    "/\n",
    "  foo\n",
    "    baz\n",
    "  bar\n",
    "  \n",
    "```\n",
    "  \n",
    "If so, we can pass the current indent level as a state of the recursive call."
   ]
  },
  {
   "cell_type": "code",
   "execution_count": null,
   "metadata": {},
   "outputs": [],
   "source": [
    "indent_per_level = '  '\n",
    "def dfs(node, indent_level):\n",
    "  ...\n",
    "  current_indent_level = indent_level + indent_per_level\n",
    "  print(current_indent_level + node.val)\n",
    "    dfs(node, current_indent_level)"
   ]
  },
  {
   "cell_type": "markdown",
   "metadata": {},
   "source": [
    "# 3. Using return value vs. global variable Approches 🤓\n",
    "\n",
    "Consider the problem of finding Max value in a tree! To do so, we have 2 approaches;\n",
    "\n",
    "<img src=\"../img/dfs_on_trees_intro_2.png\">\n",
    "\n",
    "1. **Using return value (divide and conquer)**\n",
    "One way to solve it is to use return value to pass the maximum value we have encountered back to parent node, and let the parent node compare it with the return value from the other child. This is more of a divide and conquer approach."
   ]
  },
  {
   "cell_type": "code",
   "execution_count": null,
   "metadata": {},
   "outputs": [],
   "source": [
    "def find_max_dfs(node):\n",
    "    if not node:\n",
    "        return None\n",
    "    left = find_max_dfs(node.left)\n",
    "    right = find_max_dfs(node.right)\n",
    "\n",
    "    return max(node.val ,  left, right)"
   ]
  },
  {
   "cell_type": "markdown",
   "metadata": {},
   "source": [
    "2. **Using global variable**\n",
    "Another way to solve this is to traverse the tree while keeping a global variable that keeps track of the maximum value we have encountered. After the dfs, we return the global variable."
   ]
  },
  {
   "cell_type": "code",
   "execution_count": null,
   "metadata": {},
   "outputs": [],
   "source": [
    "# global variable to record current max value\n",
    "# initialize to minimum value possible so any node will be larger\n",
    "def dfs_helper(node):\n",
    "    if not node:\n",
    "        return None\n",
    "    max_val = 0\n",
    "    if node.val > max_val: # update the global variable if current value is larger\n",
    "        max_val = node.val\n",
    "\n",
    "    dfs_helper(root.left)\n",
    "    dfs_helper(root.right)\n",
    "\n",
    "\n",
    "def find_max(root):\n",
    "    dfs_helper(root) # kick off dfs from root node\n",
    "    return max_val\n"
   ]
  },
  {
   "cell_type": "markdown",
   "metadata": {},
   "source": [
    "It's more of a personal preference which one you use. One could argue global variables are bad and therefore the divide and conquer. However, sometimes it's easier to use a global variable. Recall that divide and conquer has two steps - partition and merge. If the merge step is complex, then using a global variable might simplify things."
   ]
  },
  {
   "cell_type": "markdown",
   "metadata": {},
   "source": [
    "# DFS Relavant Questions:\n",
    "\n",
    "## DFS on Tree:\n",
    "\n",
    "- [Max Depth BT](https://leetcode.com/problems/maximum-depth-of-binary-tree/)\n",
    "\n",
    "\n",
    "## DFS on BST:\n"
   ]
  },
  {
   "cell_type": "markdown",
   "metadata": {},
   "source": []
  },
  {
   "cell_type": "code",
   "execution_count": null,
   "metadata": {},
   "outputs": [],
   "source": []
  }
 ],
 "metadata": {
  "kernelspec": {
   "display_name": "Python 3.10.4 64-bit",
   "language": "python",
   "name": "python3"
  },
  "language_info": {
   "codemirror_mode": {
    "name": "ipython",
    "version": 3
   },
   "file_extension": ".py",
   "mimetype": "text/x-python",
   "name": "python",
   "nbconvert_exporter": "python",
   "pygments_lexer": "ipython3",
   "version": "3.10.4"
  },
  "orig_nbformat": 4,
  "vscode": {
   "interpreter": {
    "hash": "916dbcbb3f70747c44a77c7bcd40155683ae19c65e1c03b4aa3499c5328201f1"
   }
  }
 },
 "nbformat": 4,
 "nbformat_minor": 2
}
