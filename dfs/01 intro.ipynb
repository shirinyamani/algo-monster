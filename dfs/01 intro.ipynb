{
 "cells": [
  {
   "cell_type": "markdown",
   "metadata": {},
   "source": [
    "# Recursion \n",
    "\n",
    "The process of a function calling itself on n on on! In the following exp the act of **\"puting someone on hold to ask another person\"** is the concept of recursion\n",
    "\n",
    "<img src=\"../img/r.png\">"
   ]
  },
  {
   "cell_type": "code",
   "execution_count": 2,
   "metadata": {},
   "outputs": [],
   "source": [
    "def call_for_lunch(person):\n",
    "    if person == \"John\":  #base condition\n",
    "        return True\n",
    "    else: call_for_lunch(nxt_person) #recursion occurance\n",
    "\n",
    "\n",
    "# Classical TextBook exp:\n",
    "def fibo(num):\n",
    "    if num <=  1: #base condition\n",
    "        return 1\n",
    "    else: fibo(num-1) + fibo(num-2) #function with different inputs"
   ]
  },
  {
   "cell_type": "markdown",
   "metadata": {},
   "source": [
    "# Recursion and Stack\n",
    "\n",
    "How does a PC understand such a thing as a function reapiting itself? The answer is simple-- via Stack! Why? to keep track of where things are!"
   ]
  },
  {
   "cell_type": "code",
   "execution_count": null,
   "metadata": {},
   "outputs": [],
   "source": [
    "def fibo_stack(num):\n",
    "    stack = []\n",
    "    # push each call to a stack\n",
    "    # top of the stack is base case\n",
    "    while num > 1:\n",
    "        stack.append(num)\n",
    "        num -= 1\n",
    "\n",
    "    res = 1\n",
    "    # pop and use return value until stack is empty\n",
    "    while stack is not None:\n",
    "        res *= stack.pop()\n",
    "\n",
    "    return res\n"
   ]
  }
 ],
 "metadata": {
  "kernelspec": {
   "display_name": "Python 3.10.4 64-bit",
   "language": "python",
   "name": "python3"
  },
  "language_info": {
   "codemirror_mode": {
    "name": "ipython",
    "version": 3
   },
   "file_extension": ".py",
   "mimetype": "text/x-python",
   "name": "python",
   "nbconvert_exporter": "python",
   "pygments_lexer": "ipython3",
   "version": "3.10.4"
  },
  "orig_nbformat": 4,
  "vscode": {
   "interpreter": {
    "hash": "916dbcbb3f70747c44a77c7bcd40155683ae19c65e1c03b4aa3499c5328201f1"
   }
  }
 },
 "nbformat": 4,
 "nbformat_minor": 2
}
