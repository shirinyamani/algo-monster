{
 "cells": [
  {
   "cell_type": "markdown",
   "metadata": {},
   "source": [
    "# DFS on Tree 🌳🌵\n",
    "# 1. Think like ya are a Node! 🤓⚾\n",
    "\n",
    "From Node perspective, ya only know;\n",
    "\n",
    "1. Your value\n",
    "2. How to get to your childrean\n",
    "3. Recurssion will take care of other things!\n",
    "\n",
    "The key to solving tree problems using DFS is to think from the perspective of a node instead of looking at the whole tree. This is in line with how recursion is written. Reason from a node's perspective, decide how the current node should be proceeded, then recurse on children and let recursion takes care of the rest.\n",
    "\n",
    "When you are a node, the only things you know are 1) your value and 2) how to get to your children. So the recursive function you write manipulates these things.\n",
    "\n",
    "Given that, the template for DFS on tree is:\n"
   ]
  },
  {
   "cell_type": "code",
   "execution_count": null,
   "metadata": {},
   "outputs": [],
   "source": [
    "def dfs(node, state):\n",
    "    if node is None:\n",
    "        .....\n",
    "        return .....\n",
    "    \n",
    "    left = dfs(node.left, state)\n",
    "    right = dfs(node.right, state)\n",
    "\n",
    "        .....\n",
    "\n",
    "    return ......."
   ]
  },
  {
   "cell_type": "markdown",
   "metadata": {},
   "source": [
    "# 2. Defining the recursive function ⤴️\n",
    "\n",
    "There are 2 things that we need to know to define the recursion;\n",
    "\n",
    "1. **Return value (passing value up from child to parent)** \n",
    "What do we want to return after visiting a node. For example, for the max depth problem this is the max depth for the current node's subtree. If we are looking for a node in the tree, we'd want to return that node if found, else return null. Use the return value to pass information from children to parent.\n",
    "\n",
    "2. **Identify state(s) (passing value down from parent to child)**\n",
    "What states do we need to maintain to compute the return value for the current node. For example, to know if the current node's value is larger than its parent we have to maintain the parent's value as a state. State becomes DFS's function arguments. Use states to pass information from parent to children.\n",
    "\n",
    "Consider the problem of pretty-print a binary tree. Given directory tree;\n",
    "\n",
    "<img src=\"../img/dfs_on_trees_intro_1.png\">\n",
    "\n",
    "We want to \"pretty-print\" the directory structure with indents like this:\n",
    "\n",
    "```\n",
    "/\n",
    "  foo\n",
    "    baz\n",
    "  bar\n",
    "  \n",
    "```\n",
    "  \n",
    "If so, we can pass the current indent level as a state of the recursive call."
   ]
  },
  {
   "cell_type": "code",
   "execution_count": null,
   "metadata": {},
   "outputs": [],
   "source": [
    "indent_per_level = '  '\n",
    "def dfs(node, indent_level):\n",
    "  ...\n",
    "  current_indent_level = indent_level + indent_per_level\n",
    "  print(current_indent_level + node.val)\n",
    "    dfs(node, current_indent_level)"
   ]
  }
 ],
 "metadata": {
  "language_info": {
   "name": "python"
  },
  "orig_nbformat": 4
 },
 "nbformat": 4,
 "nbformat_minor": 2
}
