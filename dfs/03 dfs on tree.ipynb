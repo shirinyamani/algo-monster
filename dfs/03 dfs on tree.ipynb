{
 "cells": [
  {
   "cell_type": "markdown",
   "metadata": {},
   "source": [
    "# DFS on Tree 🌳🌵\n",
    "- # Think like ya are a Node! 🤓⚾\n",
    "\n",
    "From Node perspective, ya only know;\n",
    "\n",
    "1. Your value\n",
    "2. How to get to your childrean\n",
    "3. Recurssion will take care of other things!\n",
    "\n",
    "The key to solving tree problems using DFS is to think from the perspective of a node instead of looking at the whole tree. This is in line with how recursion is written. Reason from a node's perspective, decide how the current node should be proceeded, then recurse on children and let recursion takes care of the rest.\n",
    "\n",
    "When you are a node, the only things you know are 1) your value and 2) how to get to your children. So the recursive function you write manipulates these things.\n",
    "\n",
    "Given that, the template for DFS on tree is:\n"
   ]
  },
  {
   "cell_type": "markdown",
   "metadata": {},
   "source": []
  }
 ],
 "metadata": {
  "language_info": {
   "name": "python"
  },
  "orig_nbformat": 4
 },
 "nbformat": 4,
 "nbformat_minor": 2
}
