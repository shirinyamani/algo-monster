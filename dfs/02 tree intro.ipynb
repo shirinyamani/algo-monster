{
 "cells": [
  {
   "cell_type": "markdown",
   "metadata": {},
   "source": [
    "## Introduction to Tree Data Structure\n",
    "\n",
    "A tree is a data structure composed of nodes connected by edges, where each node can have any data type as values. Each node in a tree can be connected to zero or more child nodes, depending on the type of tree, but must be connected to exactly one parent node. The only exception is the root node, which has no parent, and every tree has only one root node. These constraints mean that a tree has no cycles or loops.\n",
    "\n",
    "Below are some common terminologies related to trees:\n",
    "\n",
    "- Internal node: every node in a tree which is not the root node.\n",
    "- Leaf node: every node in a tree that has no child nodes.\n",
    "- Ancestor: all the nodes that are between the path from the root to the current node are the ancestors of the current node. An ancestor node of the current node is either the parent of the current node or the parent of another ancestor of the node.\n",
    "- Descendent: all the nodes that are reachable from the current node when moving down the tree are the descendants of the current node. A descendant of the current node is either a child of the node or a child of another descendant of the node.\n",
    "- Level: the level of a node the number of ancestors from that node until the root node. The root node is at level 0.\n",
    "- Depth: the depth of a node is the number of edges on the path from the root to that node.\n",
    "- Height: the height of a node is the number of edges on the longest path from that node to a leaf. The height of a tree is the height of its root node.\n",
    "\n",
    "<img src=\"../img/tree_intro.001.png\">"
   ]
  },
  {
   "cell_type": "markdown",
   "metadata": {},
   "source": [
    "# Tree Traversal\n",
    "## In-order Traversal\n",
    "In-order traversal visits the left branch first, then the current node, and finally the right branch. The diagram below shows the traversal order of an in-order traversal on a binary tree.\n",
    "\n",
    "<img src=\"../img/inorder_traversal.gif\">"
   ]
  },
  {
   "cell_type": "code",
   "execution_count": null,
   "metadata": {},
   "outputs": [],
   "source": [
    "class Tree:\n",
    "    def __inint__(self, left=None, right=None, val=None):\n",
    "        self.val = val\n",
    "        self.right = right\n",
    "        self.left = left\n",
    "\n",
    "def inOrder(root):\n",
    "    if root is not None:\n",
    "        inOrder(root.left)\n",
    "        print(root.val)\n",
    "        inOrder(root.right)\n",
    "\n",
    "def preOrder(root):\n",
    "    if root is not None:\n",
    "        print(root.val)\n",
    "        preOrder(root.left)\n",
    "        preOrder(root.right)\n",
    "        \n",
    "\n",
    "    "
   ]
  },
  {
   "cell_type": "markdown",
   "metadata": {},
   "source": []
  }
 ],
 "metadata": {
  "language_info": {
   "name": "python"
  },
  "orig_nbformat": 4
 },
 "nbformat": 4,
 "nbformat_minor": 2
}
