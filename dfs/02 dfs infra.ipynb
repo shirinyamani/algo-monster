{
 "cells": [
  {
   "cell_type": "markdown",
   "metadata": {},
   "source": [
    "<img src=\"../img/dfs.png\">\n",
    "\n",
    "## Prerequsite: Please check [this](./01%20intro.ipynb) doc before moving on!\n",
    "\n",
    "# DFS\n",
    "\n",
    "With a solid understanding of recursion under our belt, we are now ready to tackle one of the most useful technique in coding interviews - Depth First Search (DFS). As the name suggests, DFS is a bold search. We go as deep as we can to look for a value, and when there is nothing new to discover, we retrace our steps to find something new. To put it in a term we already know, the **pre-order traversal** of a tree is **DFS**. Let's look at a simple problem of searching for a node in a binary tree whose value is equal to target.\n"
   ]
  },
  {
   "cell_type": "code",
   "execution_count": 1,
   "metadata": {},
   "outputs": [],
   "source": [
    "def dfs(root, target):\n",
    "    if root is None:\n",
    "        return None\n",
    "    if root.val == target:\n",
    "        return root\n",
    "    # return non-null return value from the recursive calls\n",
    "    left = dfs(root.left, target)\n",
    "    if left is not None:\n",
    "        return left\n",
    "     # at this point, we know left is null, and right could be null or non-null\n",
    "    # we return right child's recursive call result directly because\n",
    "    # - if it's non-null we should return it\n",
    "    # - if it's null, then both left and right are null, we want to return null\n",
    "    return dfs(root.right, target) # ~ return dfs(root.left, target) or dfs(root.right, target)"
   ]
  },
  {
   "cell_type": "markdown",
   "metadata": {},
   "source": [
    "<img src=\"../img/1.png\">\n",
    "<img src=\"../img/2.png\">\n",
    "<img src=\"../img/3.png\">\n",
    "<img src=\"../img/4.png\">\n",
    "<img src=\"../img/5.png\">\n",
    "<img src=\"../img/6.png\">\n",
    "<img src=\"../img/7.png\">"
   ]
  },
  {
   "cell_type": "markdown",
   "metadata": {},
   "source": [
    "Being able to visualize recursion and call stack of a DFS function in your mind is extremely important. Please take a minute to make sure you internalize it and come back to this page any time you need to look at it.\n",
    "\n",
    "The example above also introduces two other concepts, backtracking and divide and conquer. The action of retracing steps (e.g. from 2 we first visited 3 depth first and retraced back and visit the other child 4) is called backtracking. Backtracking and DFS are similar concepts and essentially the same thing since in DFS you always \"backtrack\" after exploring a deeper node. It's like saying I program computers by doing coding. If we really want to make the distinction, then backtracking is the concept of retracing and DFS is the algorithm that implements it. In computer science textbooks, backtracking is often mentioned and associated with combinatorial search problems. We will do the same in the course.\n",
    "\n",
    "We have two recursive calls dfs(root.left) and dfs(root.right), and return based on results from the recursive calls. This is also a divide and conquer algorithm, i.e. splitting into subproblems of the same type (search in left and right children) until they are simple enough to be solved directly (null nodes or found target) and combine the results from these subproblems (return non-null node). We'll investigate divide and conquer more in a later module."
   ]
  },
  {
   "cell_type": "markdown",
   "metadata": {},
   "source": []
  }
 ],
 "metadata": {
  "kernelspec": {
   "display_name": "Python 3.10.4 64-bit",
   "language": "python",
   "name": "python3"
  },
  "language_info": {
   "codemirror_mode": {
    "name": "ipython",
    "version": 3
   },
   "file_extension": ".py",
   "mimetype": "text/x-python",
   "name": "python",
   "nbconvert_exporter": "python",
   "pygments_lexer": "ipython3",
   "version": "3.10.4"
  },
  "orig_nbformat": 4,
  "vscode": {
   "interpreter": {
    "hash": "916dbcbb3f70747c44a77c7bcd40155683ae19c65e1c03b4aa3499c5328201f1"
   }
  }
 },
 "nbformat": 4,
 "nbformat_minor": 2
}
