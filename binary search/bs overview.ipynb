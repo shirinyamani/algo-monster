{
 "cells": [
  {
   "cell_type": "markdown",
   "metadata": {},
   "source": [
    "# Binary Search\n",
    "<img src=\"../img/Binary_Search.svg\">\n",
    "\n",
    "Binary search is an efficient array search algorithm. It works by narrowing down the search range by half each time. If you have looked up a word in a physical dictionary, you've already used binary search in real life. Let's look at a simple example:\n",
    "\n",
    "Given a sorted array of integers and an integer called target, find the element that equals the target and return its index. If the element is not found, return -1.\n",
    "\n",
    "The key observation here is that the array is sorted. We pick a random element in the array and compare it to the target.\n",
    "\n",
    "- If we happen to pick the element that equals the target (how lucky!), then bingo. We don't need to do any more work; return its index.\n",
    "- If the element is smaller than the target, then we know the target cannot be found in the section to the left of the current element since everything to the left is even smaller. So we discard the current element and everything on the left from the search range.\n",
    "- If the element is larger than the target, then we know the target cannot be found in the section to the right of the current element since everything to the right is even larger. So we discard the current element and everything on the right from the search range.\n",
    "\n",
    "We repeat this process until we find the target. Instead of picking a random element, we always pick the middle element in the current search range. This way, we can discard half of the options and shrink the search range by half each time. This gives us O(log(N)) runtime\n",
    "\n",
    "# Implementation\n",
    "The search range is represented by the left and right indices that start from both ends of the array and move towards each other as we search. When moving the index, we discard elements and shrink the search range. \n",
    "\n",
    "`Time Complexity: O(log(n))`\n",
    "\n",
    "<img src=\"../img/binary_search.001.png\">\n",
    "\n"
   ]
  },
  {
   "cell_type": "code",
   "execution_count": 1,
   "metadata": {},
   "outputs": [],
   "source": [
    "def BS(arr, target):\n",
    "    left, right = 0, len(arr) - 1\n",
    "    while left <= right:  # <= because left and right could point to the same element, < would miss it\n",
    "        mid = (left + right) // 2 # double slash for integer division in python 3, we don't have to worry about integer `left + right` overflow since python integers can be arbitrarily large\n",
    "        # found target, return its index\n",
    "        if arr[mid] == target:\n",
    "            return mid\n",
    "        # middle less than target, discard left half by making left search boundary `mid + 1`\n",
    "        if arr[mid] < target:\n",
    "            left = mid + 1\n",
    "        # middle greater than target, discard right half by making right search boundary `mid - 1`\n",
    "        else:\n",
    "            right = mid - 1\n",
    "    return -1 # if we get here we didn't hit above return so we didn't find target"
   ]
  },
  {
   "cell_type": "markdown",
   "metadata": {},
   "source": [
    "# Calculating `mid`\n",
    "Note that when calculating mid, if the number of elements is even, there are two elements in the middle. We usually follow the convention of picking the first one, equivalent to doing integer division (left + right) / 2.\n",
    "\n",
    "In most programming languages, we calculate mid with left + floor((right-left) / 2) to avoid potential integer overflow. However, in Python, we do not need to worry about left + right integer overflow because Python3 integers can be arbitrarily large.\n",
    "\n",
    "# Deducing binary search\n",
    "It's essential to understand and deduce the algorithm yourself instead of memorizing it. In an actual interview, interviewers may ask you additional questions to test your understanding, so simply memorizing the algorithm may not be enough to convince the interviewer.\n",
    "\n",
    "# Key elements in writing a correct binary search:\n",
    "\n",
    "1. When to terminate the loop\n",
    "Make sure the while loop has an equality comparison. Otherwise, we'd skip the loop and miss the potential match for the edge case of a one-element array.\n",
    "\n",
    "2. Whether/how to update left and right boundary in the if conditions\n",
    "Consider which side to discard. If arr[mid] is already smaller than the target, we should discard everything on the left by making left = mid + 1.\n",
    "\n",
    "3. Should I discard the current element?\n",
    "For vanilla binary search, we can discard it since it can't be the final answer if it is not equal to the target. There might be situations where you would want to think twice before discarding the current element. We'll discuss this in the next module.\n",
    "\n",
    "# When to use binary search\n",
    "Interestingly, binary search works beyond sorted arrays. You can use binary search whenever you make a binary decision to shrink the search range. We will see this in the following modules."
   ]
  },
  {
   "cell_type": "markdown",
   "metadata": {},
   "source": []
  }
 ],
 "metadata": {
  "kernelspec": {
   "display_name": "Python 3.10.4 64-bit",
   "language": "python",
   "name": "python3"
  },
  "language_info": {
   "codemirror_mode": {
    "name": "ipython",
    "version": 3
   },
   "file_extension": ".py",
   "mimetype": "text/x-python",
   "name": "python",
   "nbconvert_exporter": "python",
   "pygments_lexer": "ipython3",
   "version": "3.10.4"
  },
  "orig_nbformat": 4,
  "vscode": {
   "interpreter": {
    "hash": "916dbcbb3f70747c44a77c7bcd40155683ae19c65e1c03b4aa3499c5328201f1"
   }
  }
 },
 "nbformat": 4,
 "nbformat_minor": 2
}
