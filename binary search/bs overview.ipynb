{
 "cells": [
  {
   "cell_type": "markdown",
   "metadata": {},
   "source": [
    "# Binary Search\n",
    "<img src=\"../img/Binary_Search.svg\">\n",
    "\n",
    "Binary search is an efficient array search algorithm. It works by narrowing down the search range by half each time. If you have looked up a word in a physical dictionary, you've already used binary search in real life. Let's look at a simple example:\n",
    "\n",
    "Given a sorted array of integers and an integer called target, find the element that equals the target and return its index. If the element is not found, return -1.\n",
    "\n",
    "The key observation here is that the array is sorted. We pick a random element in the array and compare it to the target.\n",
    "\n",
    "- If we happen to pick the element that equals the target (how lucky!), then bingo. We don't need to do any more work; return its index.\n",
    "- If the element is smaller than the target, then we know the target cannot be found in the section to the left of the current element since everything to the left is even smaller. So we discard the current element and everything on the left from the search range.\n",
    "- If the element is larger than the target, then we know the target cannot be found in the section to the right of the current element since everything to the right is even larger. So we discard the current element and everything on the right from the search range.\n",
    "\n",
    "We repeat this process until we find the target. Instead of picking a random element, we always pick the middle element in the current search range. This way, we can discard half of the options and shrink the search range by half each time. This gives us O(log(N)) runtime\n",
    "\n",
    "# Implementation\n",
    "The search range is represented by the left and right indices that start from both ends of the array and move towards each other as we search. When moving the index, we discard elements and shrink the search range. \n",
    "\n",
    "`Time Complexity: O(log(n))`\n",
    "\n",
    "<img src=\"../img/binary_search.001.png\">\n",
    "\n"
   ]
  },
  {
   "cell_type": "code",
   "execution_count": 1,
   "metadata": {},
   "outputs": [],
   "source": [
    "def BS(arr, target):\n",
    "    left, right = 0, len(arr) - 1\n",
    "    while left <= right:  # <= because left and right could point to the same element, < would miss it\n",
    "        mid = (left + right) // 2 # double slash for integer division in python 3, we don't have to worry about integer `left + right` overflow since python integers can be arbitrarily large\n",
    "        # found target, return its index\n",
    "        if arr[mid] == target:\n",
    "            return mid\n",
    "        # middle less than target, discard left half by making left search boundary `mid + 1`\n",
    "        if arr[mid] < target:\n",
    "            left = mid + 1\n",
    "        # middle greater than target, discard right half by making right search boundary `mid - 1`\n",
    "        else:\n",
    "            right = mid - 1\n",
    "    return -1 # if we get here we didn't hit above return so we didn't find target"
   ]
  },
  {
   "cell_type": "code",
   "execution_count": null,
   "metadata": {},
   "outputs": [],
   "source": []
  }
 ],
 "metadata": {
  "kernelspec": {
   "display_name": "Python 3.10.4 64-bit",
   "language": "python",
   "name": "python3"
  },
  "language_info": {
   "codemirror_mode": {
    "name": "ipython",
    "version": 3
   },
   "file_extension": ".py",
   "mimetype": "text/x-python",
   "name": "python",
   "nbconvert_exporter": "python",
   "pygments_lexer": "ipython3",
   "version": "3.10.4"
  },
  "orig_nbformat": 4,
  "vscode": {
   "interpreter": {
    "hash": "916dbcbb3f70747c44a77c7bcd40155683ae19c65e1c03b4aa3499c5328201f1"
   }
  }
 },
 "nbformat": 4,
 "nbformat_minor": 2
}
