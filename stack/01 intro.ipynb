{
 "cells": [
  {
   "cell_type": "markdown",
   "metadata": {},
   "source": [
    "# What is Stack?\n",
    "\n",
    "Last in First out structure, imagine ya wanna implement sth like MS word, so ya wanna undo what ya just written or maybe the word before that, ya wanna edit that and so on! \n",
    "- e.g. usage: crl Z on keyboard,  website history, ya wanna traverse that history in a reverse order!\n",
    "- Like a real-world stack of plates\n",
    "- We can only interact with the very last item of the stack which is the top element of it!\n",
    "\n",
    "<img src=\"../img/stack.png\">\n",
    "\n",
    "# Why do we need stacks?\n",
    "Whenever we have a functionality in our program that utilizes the last data, first!\n",
    "\n"
   ]
  },
  {
   "cell_type": "markdown",
   "metadata": {},
   "source": [
    "# Push and Pop from/into Stack?\n",
    "- Happens in **reverse** order, meaning the last item in, would be the first item out or being removed from the stack!\n",
    "- Becareful with the pop method, ya cannot pop from an empty list, right? So thats why ya gotta have the condition of \"while stack...\""
   ]
  }
 ],
 "metadata": {
  "kernelspec": {
   "display_name": "Python 3.10.4 64-bit",
   "language": "python",
   "name": "python3"
  },
  "language_info": {
   "name": "python",
   "version": "3.10.4"
  },
  "orig_nbformat": 4,
  "vscode": {
   "interpreter": {
    "hash": "916dbcbb3f70747c44a77c7bcd40155683ae19c65e1c03b4aa3499c5328201f1"
   }
  }
 },
 "nbformat": 4,
 "nbformat_minor": 2
}
