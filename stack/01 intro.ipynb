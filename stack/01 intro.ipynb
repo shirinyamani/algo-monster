{
 "cells": [
  {
   "cell_type": "markdown",
   "metadata": {},
   "source": [
    "# What is Stack?\n",
    "\n",
    "- linear Data Structure\n",
    "- e.g. usage: crl Z on keyboard,  website history\n",
    "- LIFO implemented "
   ]
  },
  {
   "cell_type": "markdown",
   "metadata": {},
   "source": []
  }
 ],
 "metadata": {
  "language_info": {
   "name": "python"
  },
  "orig_nbformat": 4
 },
 "nbformat": 4,
 "nbformat_minor": 2
}
