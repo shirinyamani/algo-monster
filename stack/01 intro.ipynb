{
 "cells": [
  {
   "cell_type": "markdown",
   "metadata": {},
   "source": [
    "# What is Stack?\n",
    "So what is a stack, and how does it work? Well, just like a linked list, a stack is nothing more than a data structure that contains a whole bunch of elements. And, like linked lists, stacks are linear, which means that there is a sequence and an order to how they are constructed and traversed!\n",
    "\n",
    "The interesting thing about how stacks work, is that they only really have one direction to them. That is to say, if we wanted to add elements to this structure, or if we wanted to remove elements from it, we’d have to do it starting from one place: the top of the stack.\n",
    "\n",
    "We can think of it like a stack data type just like a stack of books. If we had a stack of fifty books, we’d have to add the fifty-first book to the top of our stack, right? We probably wouldn’t be trying to stick it at the bottom of the pile of books. That’s the same concept that applies to stack structures: the insertion and deletion of elements can only happen from one end of the stack — the top.\n",
    "\n",
    "This behavior of inserting and deleting from the same location has a name, too — and sometimes, this name is used to refer to stacks as well: last in, first out.\n",
    "\n",
    "The last in, first out principle (LIFO) refers to the rule that whichever element is the last one to go into the stack will be the very first one that has to go out.\n",
    "\n",
    "Conversely, this also means that the first element that you put into the stack will always end up being the last one that goes out!\n",
    "\n",
    "Last in First out structure, imagine ya wanna implement sth like MS word, so ya wanna undo what ya just written or maybe the word before that, ya wanna edit that and so on! \n",
    "- e.g. usage: crl Z on keyboard,  website history, ya wanna traverse that history in a reverse order!\n",
    "- Like a real-world stack of plates\n",
    "- We can only interact with the very last item of the stack which is the top element of it!\n",
    "\n",
    "<img src=\"../img/stack.png\">\n",
    "\n",
    "# Why do we need stacks?\n",
    "Whenever we have a functionality in our program that utilizes the last data, first!\n",
    "\n"
   ]
  },
  {
   "cell_type": "markdown",
   "metadata": {},
   "source": [
    "# Push and Pop from/into Stack?\n",
    "- Happens in **reverse** order, meaning the last item in, would be the first item out or being removed from the stack!\n",
    "- Becareful with the pop method, ya cannot pop from an empty list, right? So thats why ya gotta have the condition of \"while stack...\""
   ]
  }
 ],
 "metadata": {
  "kernelspec": {
   "display_name": "Python 3.10.4 64-bit",
   "language": "python",
   "name": "python3"
  },
  "language_info": {
   "name": "python",
   "version": "3.10.4"
  },
  "orig_nbformat": 4,
  "vscode": {
   "interpreter": {
    "hash": "916dbcbb3f70747c44a77c7bcd40155683ae19c65e1c03b4aa3499c5328201f1"
   }
  }
 },
 "nbformat": 4,
 "nbformat_minor": 2
}
