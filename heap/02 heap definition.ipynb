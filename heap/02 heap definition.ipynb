{
 "cells": [
  {
   "cell_type": "markdown",
   "metadata": {},
   "source": [
    "# What is Binary Heap? 🌵🗻\n",
    "\n",
    "A Binary Heap is a **Binary Tree** with following properties;\n",
    "\n",
    "1) When we say its a Binary Tree, then it means that each and every Parent Node, could possibly have,**AT MOST**, two children!\n",
    "\n",
    "2) Must be a complete tree! This means that **All** levels are completely filled from left to right, expet the very last level that is not needed to be full! Look at the picture below;\n",
    "\n",
    "![heap](./imgs/heap.png)\n",
    "\n",
    "3) A Binary Heap is either Min Heap or Max Heap. In a Min Binary Heap, the value value at **root** must be minimum among **all values** present in Binary Heap. The same property must be recursively true for all nodes in Binary Tree. Max Binary Heap is essencially the same, but the root node is the Maximum value among all the present nodes! Below is an example of Binary Min Heap. \n",
    "\n",
    "![BH min](./imgs/minBH.png)"
   ]
  },
  {
   "cell_type": "markdown",
   "metadata": {},
   "source": [
    "# How is Binary Heap represented in Memory? 🛠️⚙️ \n",
    "\n",
    "Ya remember in the former section I mentioned, Binary Heap is a **Complete** Binary Tree? The **Complete** Tree nature of it, makes it ideal candidate for **Array** or **List** data structure to be implemented by!\n",
    "\n",
    "## Why Array is used for building?\n",
    "\n",
    "This is because in the case of say fixed-size array, we want maximum number of cells to be filled, right? (Because it occupies memory, so we don't want array cell to be empty)\n",
    "Now, since it is a Complete Tree(i.e. all levels except the very last level, are filled!) si it ensures that most of the cells are filled, so there would be no gap between the nodes, right? \n",
    "\n",
    "Then once we get that array, then with a simple eqution (below) we can get to the left and right child, which are basically the next or nearby cells in the array case, right? \n",
    "\n",
    "![BH min](./imgs/minBHrep.png)\n",
    "\n",
    "Note that The **root** element will be at Arr[0]"
   ]
  },
  {
   "cell_type": "code",
   "execution_count": null,
   "metadata": {},
   "outputs": [],
   "source": [
    "class MinHeap:\n",
    "    def __init__(self, capacity):\n",
    "        self.customArr = capacity * [None]  #create/initiate a custom arr or list\n",
    "        self.capacity = capacity \n",
    "        self.size = 0 #number of element currently in our heap\n",
    "\n",
    "    def getindexParent(self,i): #getting the Parent Node index via the formula above \n",
    "        return (i-1)//2\n",
    "\n",
    "    def getindexLChild(self,i): #getting the Left Child index via the formula above \n",
    "        return (2*i +1)\n",
    "\n",
    "    def getindexRChild(self,i): #getting the Right child indes via the formula above\n",
    "        return (2*i +2)\n",
    "\n",
    "    def hasParent(index): #to have parent, the Array/List size gotta be bigger than Zero\n",
    "        if index > 0:\n",
    "            getindexParent(index)\n",
    "\n",
    "    def hasLeftChild(index):  #to have child, the node gotta be in range of the list/Arr, meaning it gotta be less than the size of the Arr/List\n",
    "        if index < size:\n",
    "            getindexLChild(index)\n",
    "\n",
    "    def hasRightChild(index):   #to have child, the node gotta be in range of the list/Arr, meaning it gotta be less than the size of the Arr/List\n",
    "        if index < size:\n",
    "            getindexRChild(index)\n",
    "\n",
    "    def parentValue(index): #get the value of the Parent Node\n",
    "        return index[getindexParent(index)]\n",
    "\n",
    "    def leftchildValue(index): #get the value of the Left Node\n",
    "        return index[getindexLChild(index)]\n",
    "\n",
    "    def rightchildValue(index): #get the value of the Right Node\n",
    "        return index[getindexRChild(index)]"
   ]
  }
 ],
 "metadata": {
  "language_info": {
   "name": "python"
  },
  "orig_nbformat": 4
 },
 "nbformat": 4,
 "nbformat_minor": 2
}
