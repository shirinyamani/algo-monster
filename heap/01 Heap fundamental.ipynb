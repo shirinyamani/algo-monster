{
 "cells": [
  {
   "cell_type": "markdown",
   "metadata": {},
   "source": [
    "# Priority Queue and Heap 🗻\n",
    "## What is the relationship between priority queue and heap?\n",
    "Priority Queue is an Abstract Data Type, and Heap is the concrete data structure we use to implement a priority queue.\n",
    "\n",
    "# Priority Queue\n",
    "A priority queue is a data structure that consists of a collection of items and supports the following operations:\n",
    "\n",
    "- insert: insert an item with a key\n",
    "- delete_min/delete_max: remove the item with the smallest/largest key and returning it.\n",
    "\n",
    "## Note that;\n",
    "\n",
    "- we only allow getting and deleting the element with min/max key and NOT arbitrary key.\n",
    "\n",
    "## Use cases;\n",
    "The hospital triage process is a quintessential priority queue. Patients are sorted based on the severity of their condition. For example, a person with the cold comes in and he is placed near the end of the queue. Then a person who had a car accident comes in, and he is placed before the person with the cold even though he came in later because his condition is more severe. Severity is the key in this case.\n",
    "\n",
    "Consider a problem like Merge K sorted lists. We need to keep track of min value among k elements (smallest element in each sorted list) and remove the min value and insert new values at will while still having access to the min value at any point in time. Here are some other problems where the priority queue comes in handy."
   ]
  },
  {
   "cell_type": "markdown",
   "metadata": {},
   "source": []
  }
 ],
 "metadata": {
  "language_info": {
   "name": "python"
  },
  "orig_nbformat": 4
 },
 "nbformat": 4,
 "nbformat_minor": 2
}
