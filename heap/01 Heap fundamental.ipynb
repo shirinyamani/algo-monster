{
 "cells": [
  {
   "cell_type": "markdown",
   "metadata": {},
   "source": [
    "# Priority Queue and Heap 🗻\n",
    "## What is the relationship between priority queue and heap?\n",
    "Priority Queue is an Abstract Data Type, and Heap is the concrete data structure we use to implement a priority queue.\n",
    "\n",
    "# Priority Queue\n",
    "A priority queue is a data structure that consists of a collection of items and supports the following operations:\n",
    "\n",
    "- insert: insert an item with a key\n",
    "- delete_min/delete_max: remove the item with the smallest/largest key and returning it.\n",
    "\n",
    "## Note that;\n",
    "\n",
    "- we only allow getting and deleting the element with min/max key and NOT arbitrary key.\n",
    "\n",
    "## Use cases;\n",
    "The hospital triage process is a quintessential priority queue. Patients are sorted based on the severity of their condition. For example, a person with the cold comes in and he is placed near the end of the queue. Then a person who had a car accident comes in, and he is placed before the person with the cold even though he came in later because his condition is more severe. Severity is the key in this case.\n",
    "\n",
    "Consider a problem like Merge K sorted lists. We need to keep track of min value among k elements (smallest element in each sorted list) and remove the min value and insert new values at will while still having access to the min value at any point in time. Here are some other problems where the priority queue comes in handy."
   ]
  },
  {
   "cell_type": "markdown",
   "metadata": {},
   "source": [
    "- k closest pointers to origin\n",
    "- kth largest element\n",
    "- kth largest element in a stream\n",
    "- Median of a data stream\n",
    "- Uniform Cost Search"
   ]
  },
  {
   "cell_type": "markdown",
   "metadata": {},
   "source": [
    "# Implement Priority Queue using an array\n",
    "\n",
    "To do this, we could try using\n",
    "\n",
    "an unsorted array, insert would be O(1) as we just have to put it at the end, but finding and deleting min value would be O(N) since we have to loop through the entire array to find it\n",
    "a sorted array, finding min value would be easy O(1), but it would be O(N) to insert since we have to loop through to find the correct position of the value and move elements after the position to make space and insert into the space\n",
    "There must be a better way! \"Patience you must have, my young padawan.\" Enter Heap."
   ]
  },
  {
   "cell_type": "markdown",
   "metadata": {},
   "source": [
    "# Heap\n",
    "## Max Heap and Min Heap\n",
    "There are two kinds of heaps - Min Heap and Max Heap. A Min Heap is a tree that has two properties:\n",
    "\n",
    "1. almost complete, i.e. every level is filled except possibly the last(deepest) level. The filled items in the last level are left-justified.\n",
    "2. for any node, its key (priority) is greater than its parent's key (Min Heap).\n",
    "\n",
    "A Max Heap has the same property #1 and opposite property #2, i.e. for any node, its key is less than its parent's key."
   ]
  },
  {
   "cell_type": "markdown",
   "metadata": {},
   "source": []
  }
 ],
 "metadata": {
  "kernelspec": {
   "display_name": "Python 3.10.4 64-bit",
   "language": "python",
   "name": "python3"
  },
  "language_info": {
   "name": "python",
   "version": "3.10.4"
  },
  "orig_nbformat": 4,
  "vscode": {
   "interpreter": {
    "hash": "916dbcbb3f70747c44a77c7bcd40155683ae19c65e1c03b4aa3499c5328201f1"
   }
  }
 },
 "nbformat": 4,
 "nbformat_minor": 2
}
