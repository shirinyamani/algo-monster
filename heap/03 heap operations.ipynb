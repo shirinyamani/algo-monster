{
 "cells": [
  {
   "cell_type": "markdown",
   "metadata": {},
   "source": [
    "# Main Operations on Heap ➕✂️\n",
    "\n",
    "In this section, we delve into two main operations on heap; **Insertion**, and **Deletion**\n",
    "\n",
    "# Insertion ➕\n",
    "\n",
    "The very first note that ya gotta know in insertion is that, we almost, **ALWAYS** insert an element at the very first right spot in the last layer, following from **Left** to **Right**! Okay? \n",
    "Now, look at the example below which is a **Min Heap**; \n",
    "\n",
    "![insert](./imgs/insert.png)\n",
    "\n",
    "Imagine we wanna insert node 8 into the heap, but **OOPS 🤦‍♀️😕** this is a Min-Heap, ya remember in the Min-heap case, all the children values gotta be smaller than the parents nodes? So, to solve this issue, we need to Swap the nodes and walk up untill we reach to the place in correct order fashion! "
   ]
  },
  {
   "cell_type": "code",
   "execution_count": null,
   "metadata": {},
   "outputs": [],
   "source": [
    "#Insertion in Heap\n",
    "def insert(item):\n",
    "    item[size] = item \n",
    "    size += 1\n",
    "    heapifyUp()\n",
    "\n",
    "def swap(index1, index2):\n",
    "    tmp = customArr[index1]\n",
    "    customArr[index1] = customArr[index2]\n",
    "    customArr[index2] = tmp\n",
    "\n",
    "def heapifyUp(index):\n",
    "    item = size -1 #we wanna insert very left empty spot at the last level element in the heap\n",
    "    while hasParent(index) and Parent(index) > item[index]: #walk up as long as there is a parent and is not in right fasion order\n",
    "        swap(getindexParent(index), index)\n",
    "        index= getindexParent(index)\n",
    "\n",
    "        "
   ]
  }
 ],
 "metadata": {
  "language_info": {
   "name": "python"
  },
  "orig_nbformat": 4
 },
 "nbformat": 4,
 "nbformat_minor": 2
}
